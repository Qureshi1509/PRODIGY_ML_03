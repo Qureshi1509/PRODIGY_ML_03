{
 "cells": [
  {
   "cell_type": "markdown",
   "id": "3c7c9f53",
   "metadata": {},
   "source": [
    "# IMPLEMENTATION OF SVM MODEL FOR CLASSIFYING BETWEEN CAT AND DOG IMAGES."
   ]
  },
  {
   "cell_type": "code",
   "execution_count": 1,
   "id": "1be8101d",
   "metadata": {},
   "outputs": [],
   "source": [
    "import numpy as np\n",
    "import pandas as pd\n",
    "import matplotlib.pyplot as plt"
   ]
  },
  {
   "cell_type": "code",
   "execution_count": 2,
   "id": "39936dde",
   "metadata": {},
   "outputs": [],
   "source": [
    "import os\n",
    "import random\n",
    "from sklearn import svm\n",
    "from sklearn.model_selection import train_test_split\n",
    "from sklearn.metrics import accuracy_score\n",
    "from sklearn.feature_extraction import image\n",
    "from skimage.io import imread, imshow\n",
    "from skimage.transform import resize\n",
    "from sklearn.svm import SVC\n",
    "import cv2\n",
    "from sklearn.model_selection import GridSearchCV"
   ]
  },
  {
   "cell_type": "code",
   "execution_count": 3,
   "id": "66d7c6a9",
   "metadata": {},
   "outputs": [],
   "source": [
    "#pip install opencv-python"
   ]
  },
  {
   "cell_type": "code",
   "execution_count": 4,
   "id": "339a86fc",
   "metadata": {},
   "outputs": [
    {
     "data": {
      "text/plain": [
       "'C:\\\\Users\\\\Qureshi\\\\OneDrive\\\\Desktop\\\\data_set'"
      ]
     },
     "execution_count": 4,
     "metadata": {},
     "output_type": "execute_result"
    }
   ],
   "source": [
    "dir=\"C:\\\\Users\\\\Qureshi\\\\OneDrive\\\\Desktop\\\\data_set\"\n",
    "dir"
   ]
  },
  {
   "cell_type": "markdown",
   "id": "cb52dc4e",
   "metadata": {},
   "source": [
    "## Training over a dataset of 250 cat images and 250 dog images"
   ]
  },
  {
   "cell_type": "code",
   "execution_count": 5,
   "id": "99c12612",
   "metadata": {},
   "outputs": [],
   "source": [
    "# two categories to classify in \n",
    "categories=['cat','dog']"
   ]
  },
  {
   "cell_type": "code",
   "execution_count": 6,
   "id": "197774f7",
   "metadata": {},
   "outputs": [],
   "source": [
    "# Load and preprocess images\n",
    "data=[]\n",
    "labels=[]\n",
    "for category_idx, category in enumerate(categories):\n",
    "    for file in os.listdir(os.path.join(dir, category)):\n",
    "        img_path = os.path.join(dir, category, file)\n",
    "        img = imread(img_path)\n",
    "        img = resize(img, (15, 15))\n",
    "        data.append(img.flatten())\n",
    "        labels.append(category_idx)"
   ]
  },
  {
   "cell_type": "code",
   "execution_count": 7,
   "id": "e48e0847",
   "metadata": {},
   "outputs": [],
   "source": [
    "#coversion of list to an array\n",
    "data=np.asarray(data)\n",
    "labels=np.asarray(labels)"
   ]
  },
  {
   "cell_type": "code",
   "execution_count": 8,
   "id": "31f2784d",
   "metadata": {},
   "outputs": [
    {
     "data": {
      "text/plain": [
       "array([[0.15475881, 0.17823866, 0.18050522, ..., 0.26921092, 0.21312458,\n",
       "        0.19055654],\n",
       "       [0.18921831, 0.21838422, 0.24654234, ..., 0.67523618, 0.64944923,\n",
       "        0.08107116],\n",
       "       [0.88380777, 0.88711669, 0.87383468, ..., 0.8385218 , 0.83815893,\n",
       "        0.82870196],\n",
       "       ...,\n",
       "       [0.41992916, 0.41305799, 0.43662988, ..., 0.7428484 , 0.70063827,\n",
       "        0.67681998],\n",
       "       [0.71210696, 0.55104303, 0.39650528, ..., 0.6168643 , 0.43981587,\n",
       "        0.28018826],\n",
       "       [0.67153399, 0.65717284, 0.61969482, ..., 0.6097962 , 0.37540459,\n",
       "        0.07514963]])"
      ]
     },
     "execution_count": 8,
     "metadata": {},
     "output_type": "execute_result"
    }
   ],
   "source": [
    "data"
   ]
  },
  {
   "cell_type": "code",
   "execution_count": 9,
   "id": "97cb78dc",
   "metadata": {},
   "outputs": [
    {
     "data": {
      "text/plain": [
       "array([0, 0, 0, 0, 0, 0, 0, 0, 0, 0, 0, 0, 0, 0, 0, 0, 0, 0, 0, 0, 0, 0,\n",
       "       0, 0, 0, 0, 0, 0, 0, 0, 0, 0, 0, 0, 0, 0, 0, 0, 0, 0, 0, 0, 0, 0,\n",
       "       0, 0, 0, 0, 0, 0, 0, 0, 0, 0, 0, 0, 0, 0, 0, 0, 0, 0, 0, 0, 0, 0,\n",
       "       0, 0, 0, 0, 0, 0, 0, 0, 0, 0, 0, 0, 0, 0, 0, 0, 0, 0, 0, 0, 0, 0,\n",
       "       0, 0, 0, 0, 0, 0, 0, 0, 0, 0, 0, 0, 0, 0, 0, 0, 0, 0, 0, 0, 0, 0,\n",
       "       0, 0, 0, 0, 0, 0, 0, 0, 0, 0, 0, 0, 0, 0, 0, 0, 0, 0, 0, 0, 0, 0,\n",
       "       0, 0, 0, 0, 0, 0, 0, 0, 0, 0, 0, 0, 0, 0, 0, 0, 0, 0, 0, 0, 0, 0,\n",
       "       0, 0, 0, 0, 0, 0, 0, 0, 0, 0, 0, 0, 0, 0, 0, 0, 0, 0, 0, 0, 0, 0,\n",
       "       0, 0, 0, 0, 0, 0, 0, 0, 0, 0, 0, 0, 0, 0, 0, 0, 0, 0, 0, 0, 0, 0,\n",
       "       0, 0, 0, 0, 0, 0, 0, 0, 0, 0, 0, 0, 0, 0, 0, 0, 0, 0, 0, 0, 0, 0,\n",
       "       0, 0, 0, 0, 0, 0, 0, 0, 0, 0, 0, 0, 0, 0, 0, 0, 0, 0, 0, 0, 0, 0,\n",
       "       0, 0, 0, 0, 0, 0, 0, 0, 1, 1, 1, 1, 1, 1, 1, 1, 1, 1, 1, 1, 1, 1,\n",
       "       1, 1, 1, 1, 1, 1, 1, 1, 1, 1, 1, 1, 1, 1, 1, 1, 1, 1, 1, 1, 1, 1,\n",
       "       1, 1, 1, 1, 1, 1, 1, 1, 1, 1, 1, 1, 1, 1, 1, 1, 1, 1, 1, 1, 1, 1,\n",
       "       1, 1, 1, 1, 1, 1, 1, 1, 1, 1, 1, 1, 1, 1, 1, 1, 1, 1, 1, 1, 1, 1,\n",
       "       1, 1, 1, 1, 1, 1, 1, 1, 1, 1, 1, 1, 1, 1, 1, 1, 1, 1, 1, 1, 1, 1,\n",
       "       1, 1, 1, 1, 1, 1, 1, 1, 1, 1, 1, 1, 1, 1, 1, 1, 1, 1, 1, 1, 1, 1,\n",
       "       1, 1, 1, 1, 1, 1, 1, 1, 1, 1, 1, 1, 1, 1, 1, 1, 1, 1, 1, 1, 1, 1,\n",
       "       1, 1, 1, 1, 1, 1, 1, 1, 1, 1, 1, 1, 1, 1, 1, 1, 1, 1, 1, 1, 1, 1,\n",
       "       1, 1, 1, 1, 1, 1, 1, 1, 1, 1, 1, 1, 1, 1, 1, 1, 1, 1, 1, 1, 1, 1,\n",
       "       1, 1, 1, 1, 1, 1, 1, 1, 1, 1, 1, 1, 1, 1, 1, 1, 1, 1, 1, 1, 1, 1,\n",
       "       1, 1, 1, 1, 1, 1, 1, 1, 1, 1, 1, 1, 1, 1, 1, 1, 1, 1, 1, 1, 1, 1,\n",
       "       1, 1, 1, 1, 1, 1, 1, 1, 1, 1, 1, 1, 1, 1, 1, 1])"
      ]
     },
     "execution_count": 9,
     "metadata": {},
     "output_type": "execute_result"
    }
   ],
   "source": [
    "labels"
   ]
  },
  {
   "cell_type": "code",
   "execution_count": 17,
   "id": "d5d63222",
   "metadata": {},
   "outputs": [],
   "source": [
    "# Split data into training and testing sets\n",
    "x_train, x_test, y_train, y_test = train_test_split(data, labels, test_size=0.2, shuffle=True, stratify=labels)"
   ]
  },
  {
   "cell_type": "code",
   "execution_count": 18,
   "id": "6e2749a6",
   "metadata": {},
   "outputs": [],
   "source": [
    "# Initialize SVM model\n",
    "model=SVC(C=10,kernel='poly',gamma=10)"
   ]
  },
  {
   "cell_type": "code",
   "execution_count": 19,
   "id": "ac8d224f",
   "metadata": {},
   "outputs": [
    {
     "data": {
      "text/plain": [
       "SVC(C=10, gamma=10, kernel='poly')"
      ]
     },
     "execution_count": 19,
     "metadata": {},
     "output_type": "execute_result"
    }
   ],
   "source": [
    "# Fit SVM model\n",
    "model.fit(x_train,y_train)"
   ]
  },
  {
   "cell_type": "code",
   "execution_count": 20,
   "id": "76312c66",
   "metadata": {},
   "outputs": [],
   "source": [
    "# Predict using SVM model\n",
    "y_pred=model.predict(x_test)"
   ]
  },
  {
   "cell_type": "code",
   "execution_count": 31,
   "id": "e922cc3f",
   "metadata": {},
   "outputs": [
    {
     "name": "stdout",
     "output_type": "stream",
     "text": [
      "Accuracy of SVM model: 0.54\n"
     ]
    }
   ],
   "source": [
    "# Calculate accuracy score\n",
    "accuracy = accuracy_score(y_pred, y_test)\n",
    "print(\"Accuracy of SVM model:\", accuracy)"
   ]
  },
  {
   "cell_type": "code",
   "execution_count": 23,
   "id": "bb15b493",
   "metadata": {},
   "outputs": [],
   "source": [
    "# Hyperparameter tuning using GridSearchCV\n",
    "parameters=[{'gamma':[0.1,0.01,0.001],'C':[10,50,100],'kernel':['poly','rbf','sigmoid']}]"
   ]
  },
  {
   "cell_type": "code",
   "execution_count": 24,
   "id": "9ecc2a78",
   "metadata": {},
   "outputs": [],
   "source": [
    "grid_search = GridSearchCV(model, parameters)"
   ]
  },
  {
   "cell_type": "code",
   "execution_count": 25,
   "id": "6f7d4e78",
   "metadata": {},
   "outputs": [
    {
     "data": {
      "text/plain": [
       "GridSearchCV(estimator=SVC(C=10, gamma=10, kernel='poly'),\n",
       "             param_grid=[{'C': [10, 50, 100], 'gamma': [0.1, 0.01, 0.001],\n",
       "                          'kernel': ['poly', 'rbf', 'sigmoid']}])"
      ]
     },
     "execution_count": 25,
     "metadata": {},
     "output_type": "execute_result"
    }
   ],
   "source": [
    "grid_search.fit(x_train, y_train)"
   ]
  },
  {
   "cell_type": "code",
   "execution_count": 26,
   "id": "f4d6595e",
   "metadata": {},
   "outputs": [],
   "source": [
    "# Get the best estimator from GridSearchCV\n",
    "best_estimator = grid_search.best_estimator_"
   ]
  },
  {
   "cell_type": "code",
   "execution_count": 27,
   "id": "21d4d99e",
   "metadata": {},
   "outputs": [
    {
     "data": {
      "text/plain": [
       "SVC(C=10, gamma=0.1)"
      ]
     },
     "execution_count": 27,
     "metadata": {},
     "output_type": "execute_result"
    }
   ],
   "source": [
    "best_estimator"
   ]
  },
  {
   "cell_type": "code",
   "execution_count": 28,
   "id": "519b448d",
   "metadata": {},
   "outputs": [],
   "source": [
    "# Predict using best estimator\n",
    "y_pred2 = best_estimator.predict(x_test)"
   ]
  },
  {
   "cell_type": "code",
   "execution_count": 30,
   "id": "5a9b0fa4",
   "metadata": {
    "scrolled": true
   },
   "outputs": [
    {
     "name": "stdout",
     "output_type": "stream",
     "text": [
      "Accuracy after hyperparameter tuning: 0.58\n"
     ]
    }
   ],
   "source": [
    "# Calculate accuracy score with best estimator\n",
    "accuracy_best = accuracy_score(y_pred2, y_test)\n",
    "print(\"Accuracy after hyperparameter tuning:\", accuracy_best)"
   ]
  },
  {
   "cell_type": "markdown",
   "id": "fc684743",
   "metadata": {},
   "source": [
    "# Testing for an unseen image "
   ]
  },
  {
   "cell_type": "code",
   "execution_count": 33,
   "id": "a2f19300",
   "metadata": {},
   "outputs": [],
   "source": [
    "# 1. Load the unseen image\n",
    "unseen_image_path = \"C:/Users/Qureshi/OneDrive/Desktop/data_set/unseen-cat.jpeg\"\n",
    "unseen_image = imread(unseen_image_path)"
   ]
  },
  {
   "cell_type": "code",
   "execution_count": 34,
   "id": "ac7af642",
   "metadata": {},
   "outputs": [],
   "source": [
    "# 2. Preprocess the unseen image\n",
    "resized_image = resize(unseen_image, (15, 15))\n",
    "flattened_image = resized_image.flatten()  "
   ]
  },
  {
   "cell_type": "code",
   "execution_count": 35,
   "id": "8fc43b94",
   "metadata": {},
   "outputs": [],
   "source": [
    "# 3. Use the trained model for prediction\n",
    "predicted_class = model.predict([flattened_image])  "
   ]
  },
  {
   "cell_type": "code",
   "execution_count": 36,
   "id": "bcef2c52",
   "metadata": {
    "scrolled": true
   },
   "outputs": [
    {
     "name": "stdout",
     "output_type": "stream",
     "text": [
      "Predicted category: cat\n"
     ]
    }
   ],
   "source": [
    "# 4. Interpret the prediction\n",
    "predicted_category = categories[predicted_class[0]]  # Assuming 'categories' is a list containing class names\n",
    "\n",
    "print(\"Predicted category:\", predicted_category)"
   ]
  },
  {
   "cell_type": "markdown",
   "id": "3a1f4a0e",
   "metadata": {},
   "source": [
    "# THE UNSEEN IMAGE DEPICTED A CAT AND THE PREDICTION TURNS OT TO BE SAME THUS THE MODEL PERFORMS BEST TO IT'S FUNCTIONALITY "
   ]
  }
 ],
 "metadata": {
  "kernelspec": {
   "display_name": "Python 3 (ipykernel)",
   "language": "python",
   "name": "python3"
  },
  "language_info": {
   "codemirror_mode": {
    "name": "ipython",
    "version": 3
   },
   "file_extension": ".py",
   "mimetype": "text/x-python",
   "name": "python",
   "nbconvert_exporter": "python",
   "pygments_lexer": "ipython3",
   "version": "3.9.12"
  }
 },
 "nbformat": 4,
 "nbformat_minor": 5
}
